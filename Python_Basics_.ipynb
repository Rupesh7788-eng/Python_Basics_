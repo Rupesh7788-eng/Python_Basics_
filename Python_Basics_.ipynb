{
  "nbformat": 4,
  "nbformat_minor": 0,
  "metadata": {
    "colab": {
      "provenance": []
    },
    "kernelspec": {
      "name": "python3",
      "display_name": "Python 3"
    },
    "language_info": {
      "name": "python"
    }
  },
  "cells": [
    {
      "cell_type": "markdown",
      "source": [
        "1.What is Python, and why is it popular?\n",
        "  -  Python is a high-level, interpreted programming language known for its simplicity, readability, and versatility. It was created by Guido van Rossum and first released in 1991. Python's design philosophy emphasizes code readability with its use of indentation, making it accessible even to beginners.\n",
        "-  Ease of Learning:Its straightforward syntax is similar to natural language, making it great for beginners.\n",
        "-  Versatile: Python is used in web development, data analysis, artificial intelligence, machine learning, automation, scientific computing, and more.\n",
        "-   Large Community and Libraries: A vast ecosystem of libraries and frameworks (like NumPy, Pandas, TensorFlow, Django) supports various applications, saving time and effort.\n",
        "-  Cross-Platform: Python runs on Windows, macOS, Linux, and even mobile devices.\n",
        "-   Strong Community Support:A large community means abundant tutorials, documentation, and forums for help.\n",
        "\n",
        "2.What is an interpreter in Python?\n",
        "- An interpreter in Python is a program that reads and executes Python code line-by-line. Unlike compiled languages (like C++), where the code is first translated into machine code before running, Python is interpreted, meaning the code is executed directly by the Python interpreter.\n",
        "\n",
        "3.What are pre-defined keywords in Python?\n",
        "-  In Python, predefined keywords (also known as reserved words) are special words that have a specific meaning and purpose in the language. They cannot be used as identifiers (like variable names, function names, etc.) because they are part of the language syntax.\n",
        "\n",
        "4.Can keywords be used as variable names?\n",
        "- keywords cannot be used as variable names because they are reserved words that have a specific meaning in the language's syntax.\n",
        "\n",
        "5.What is mutability in Python?\n",
        "- In Python, mutability refers to the ability of an object to be changed after it has been created. This means you can modify the content or state of the object without creating a new one\n",
        "\n",
        "6.Why are lists mutable, but tuples are immutable?\n",
        "- In Python, lists are mutable, while tuples are immutable because of their design goals and how they're optimized for performance and memory management.\n",
        "lists are great for when you need to change data, and tuples are perfect when you want to ensure the data stays the same.\n",
        "\n",
        "7. What is the difference between “==” and “is” operators in Python?\n",
        "- \"==\" checks if values are the same. and \"is\" checks if both references point to the same object.\n",
        "\n",
        "8.What are logical operators in Python?\n",
        "- Logical operators in Python are used to combine conditional statements. They help in making decisions based on multiple conditions. The primary logical operators in Python are\n",
        "- and: Returns True if both conditions are True.\n",
        "- or: Returns True if at least one of the conditions is True.\n",
        "- not: Reverses the logical state of its operand. If the condition is True, it becomes False, and vice versa\n",
        "\n",
        "9.What is type casting in Python?\n",
        "- Type casting in Python refers to the process of converting a variable from one data type to another. This is commonly done when you need to perform operations that require specific data types, or when you want to ensure data is in the correct format for processing.\n",
        "\n",
        "10.What is the difference between implicit and explicit type casting?\n",
        "- Implicit Type Casting:Automatically performed by the compiler when converting a smaller data type to a larger one (e.g., int to float).there is no risk of data loss, and the conversion is safe.\n",
        "- Explicit Type Casting:Manually performed by the programmer using casting operators to convert between types, especially when there might be data loss.\n",
        " it Used when converting from a larger data type to a smaller one, or when precision might be lost.\n",
        "\n",
        "11.What is the purpose of conditional statements in Python?\n",
        "- Conditional statements in Python are used to make decisions in your code. They allow your program to execute certain blocks of code based on whether a condition is true or false. This is essential for creating dynamic and responsive programs.\n",
        "\n",
        "12.How does the elif statement work?\n",
        "- The elif statement in Python stands for \"else if\". It’s used to check multiple conditions in a sequence, allowing you to execute different blocks of code based on which condition is true. It helps avoid using multiple if statements, making the code cleaner and more readable.\n",
        "\n",
        "13.What is the difference between for and while loops?\n",
        "- for Loop:When to use: When you know in advance how many times you want the loop to run.It iterates over a sequence (like a list, tuple, or range) or runs a block of code a specific number of times.\n",
        "- while Loop: When you don’t know in advance how many times the loop will run, and you want it to continue until a certain condition is no longer true.It keeps executing as long as the condition is True.\n",
        "\n",
        "14.Describe a scenario where a while loop is more suitable than a for loop?\n",
        "- A while loop is more suitable than a for loop when you don't know in advance how many times you need to repeat a block of code. This typically happens when the termination condition depends on some dynamic state that changes during execution.\n",
        "- Scenario: Reading Data Until a Condition is Met\n",
        "Imagine you're writing a program to process incoming data from a sensor. You want to keep reading data until the sensor sends a \"stop\" signal, but you don’t know how many data points you’ll receive\n",
        "\n",
        "\n"
      ],
      "metadata": {
        "id": "tZEC8_4HF1ZL"
      }
    },
    {
      "cell_type": "code",
      "execution_count": null,
      "metadata": {
        "id": "JMSqUWVawniW",
        "colab": {
          "base_uri": "https://localhost:8080/"
        },
        "outputId": "1f207461-1029-4332-93a2-e5be45fa9b14"
      },
      "outputs": [
        {
          "output_type": "stream",
          "name": "stdout",
          "text": [
            "Hello, World!\n"
          ]
        }
      ],
      "source": [
        "# 1) Write a Python program to print \"Hello, World!\n",
        "print(\"Hello, World!\")\n",
        "\n"
      ]
    },
    {
      "cell_type": "code",
      "source": [
        "# 2) Write a Python program that displays your name and age.\n",
        "name = \"Rohan\"\n",
        "age = 25\n",
        "\n",
        "print(\"My Name is:\", name)\n",
        "print(\"My Age is:\", age)"
      ],
      "metadata": {
        "colab": {
          "base_uri": "https://localhost:8080/"
        },
        "id": "3ywhaVqh41Fm",
        "outputId": "133393ea-eec6-485d-affa-dceda3b5e4a5"
      },
      "execution_count": null,
      "outputs": [
        {
          "output_type": "stream",
          "name": "stdout",
          "text": [
            "My Name is: Rohan\n",
            "My Age is: 25\n"
          ]
        }
      ]
    },
    {
      "cell_type": "code",
      "source": [
        "#  3)Write code to print all the pre-defined keywords in Python using the keyword library.\n",
        "\n",
        "\n",
        "import keyword\n",
        "keywords = keyword.kwlist\n",
        "for kw in keywords:\n",
        "    print(kw)\n"
      ],
      "metadata": {
        "colab": {
          "base_uri": "https://localhost:8080/"
        },
        "id": "Rpxfts0v51LP",
        "outputId": "b5ae6606-51e6-4458-e5ea-3877733b0e06"
      },
      "execution_count": null,
      "outputs": [
        {
          "output_type": "stream",
          "name": "stdout",
          "text": [
            "False\n",
            "None\n",
            "True\n",
            "and\n",
            "as\n",
            "assert\n",
            "async\n",
            "await\n",
            "break\n",
            "class\n",
            "continue\n",
            "def\n",
            "del\n",
            "elif\n",
            "else\n",
            "except\n",
            "finally\n",
            "for\n",
            "from\n",
            "global\n",
            "if\n",
            "import\n",
            "in\n",
            "is\n",
            "lambda\n",
            "nonlocal\n",
            "not\n",
            "or\n",
            "pass\n",
            "raise\n",
            "return\n",
            "try\n",
            "while\n",
            "with\n",
            "yield\n"
          ]
        }
      ]
    },
    {
      "cell_type": "code",
      "source": [
        "# 4) Write a program that checks if a given word is a Python keyword.\n",
        "\n",
        "import keyword\n",
        "\n",
        "def is_python_keyword(word):\n",
        "    return keyword.iskeyword(word)\n",
        "\n",
        "word = input(\"Enter a word to check if it's a Python keyword: \")\n",
        "if is_python_keyword(word):\n",
        "    print(f\"'{word}' is a Python keyword.\")\n",
        "else:\n",
        "    print(f\"'{word}' is NOT a Python keyword.\")\n"
      ],
      "metadata": {
        "colab": {
          "base_uri": "https://localhost:8080/"
        },
        "id": "vBveryKl6dxb",
        "outputId": "4c92ee60-cfea-469a-fdb8-dfe0903f3d42"
      },
      "execution_count": null,
      "outputs": [
        {
          "output_type": "stream",
          "name": "stdout",
          "text": [
            "Enter a word to check if it's a Python keyword: no\n",
            "'no' is NOT a Python keyword.\n"
          ]
        }
      ]
    },
    {
      "cell_type": "code",
      "source": [
        "''' 5) Create a list and tuple in Python, and demonstrate how attempting to change an element works differently\n",
        "for each '''\n",
        "\n",
        "\n",
        "my_list = [1, 2, 3, 4, 5]\n",
        "my_tuple = (1, 2, 3, 4, 5)\n",
        "\n",
        "my_list[0] = 100\n",
        "print(\"Modified list:\", my_list)\n",
        "\n",
        "\n",
        "try:\n",
        "    my_tuple[0] = 100\n",
        "except TypeError as e:\n",
        "    print(\"Error while modifying tuple:\", e)\n"
      ],
      "metadata": {
        "colab": {
          "base_uri": "https://localhost:8080/"
        },
        "id": "5YQzUiJ9641U",
        "outputId": "5c046fa6-ab1f-46e3-b3b7-ebff6ebaecf6"
      },
      "execution_count": null,
      "outputs": [
        {
          "output_type": "stream",
          "name": "stdout",
          "text": [
            "Modified list: [100, 2, 3, 4, 5]\n",
            "Error while modifying tuple: 'tuple' object does not support item assignment\n"
          ]
        }
      ]
    },
    {
      "cell_type": "code",
      "source": [
        "# 6)Write a function to demonstrate the behavior of mutable and immutable arguments.\n",
        "\n",
        "def demonstrate_mutable_immutable(mutable_arg, immutable_arg):\n",
        "    print(\"Before modification:\")\n",
        "    print(f\"Mutable argument: {mutable_arg}\")\n",
        "    print(f\"Immutable argument: {immutable_arg}\")\n",
        "\n",
        "    # Modifying the mutable argument\n",
        "    mutable_arg.append(100)\n",
        "\n",
        "    # Modifying the immutable argument (reassigning)\n",
        "    immutable_arg += 100\n",
        "\n",
        "    print(\"\\nAfter modification:\")\n",
        "    print(f\"Mutable argument: {mutable_arg}\")\n",
        "    print(f\"Immutable argument: {immutable_arg}\")\n",
        "\n",
        "# Example usage\n",
        "my_list = [1, 2, 3]\n",
        "my_number = 42\n",
        "\n",
        "demonstrate_mutable_immutable(my_list, my_number)\n",
        "\n",
        "# Check values after function call\n",
        "print(\"\\nOutside the function:\")\n",
        "print(f\"my_list: {my_list}\")\n",
        "print(f\"my_number: {my_number}\")\n"
      ],
      "metadata": {
        "colab": {
          "base_uri": "https://localhost:8080/"
        },
        "id": "Z0eyd3Ax7eRQ",
        "outputId": "1c9e7ba5-d120-4082-9c37-2cb3f734fc5e"
      },
      "execution_count": null,
      "outputs": [
        {
          "output_type": "stream",
          "name": "stdout",
          "text": [
            "Before modification:\n",
            "Mutable argument: [1, 2, 3]\n",
            "Immutable argument: 42\n",
            "\n",
            "After modification:\n",
            "Mutable argument: [1, 2, 3, 100]\n",
            "Immutable argument: 142\n",
            "\n",
            "Outside the function:\n",
            "my_list: [1, 2, 3, 100]\n",
            "my_number: 42\n"
          ]
        }
      ]
    },
    {
      "cell_type": "code",
      "source": [
        "# 7) Write a program that performs basic arithmetic operations on two user-input numbers.\n",
        "def basic_arithmetic():\n",
        "    try:\n",
        "\n",
        "        num1 = float(input(\"Enter the first number: \"))\n",
        "        num2 = float(input(\"Enter the second number: \"))\n",
        "\n",
        "\n",
        "        print(\"\\nSelect an operation:\")\n",
        "        print(\"1. Addition (+)\")\n",
        "        print(\"2. Subtraction (-)\")\n",
        "        print(\"3. Multiplication (*)\")\n",
        "        print(\"4. Division (/)\\n\")\n",
        "\n",
        "\n",
        "        choice = input(\"Enter your choice (1/2/3/4): \")\n",
        "\n",
        "\n",
        "        if choice == '1':\n",
        "            result = num1 + num2\n",
        "            print(f\"Result: {num1} + {num2} = {result}\")\n",
        "        elif choice == '2':\n",
        "            result = num1 - num2\n",
        "            print(f\"Result: {num1} - {num2} = {result}\")\n",
        "        elif choice == '3':\n",
        "            result = num1 * num2\n",
        "            print(f\"Result: {num1} * {num2} = {result}\")\n",
        "        elif choice == '4':\n",
        "            if num2 != 0:\n",
        "                result = num1 / num2\n",
        "                print(f\"Result: {num1} / {num2} = {result}\")\n",
        "            else:\n",
        "                print(\"Error: Division by zero is not allowed.\")\n",
        "        else:\n",
        "            print(\"Invalid choice. Please select a valid operation.\")\n",
        "\n",
        "    except ValueError:\n",
        "        print(\"Invalid input. Please enter numeric values.\")\n",
        "\n",
        "\n",
        "basic_arithmetic()\n"
      ],
      "metadata": {
        "colab": {
          "base_uri": "https://localhost:8080/"
        },
        "id": "XUuS1XBB8P-X",
        "outputId": "4f5d8b61-91cd-4744-dacb-4f6cd2e8f04e"
      },
      "execution_count": null,
      "outputs": [
        {
          "output_type": "stream",
          "name": "stdout",
          "text": [
            "Enter the first number: 4\n",
            "Enter the second number: 6\n",
            "\n",
            "Select an operation:\n",
            "1. Addition (+)\n",
            "2. Subtraction (-)\n",
            "3. Multiplication (*)\n",
            "4. Division (/)\n",
            "\n",
            "Enter your choice (1/2/3/4): 3\n",
            "Result: 4.0 * 6.0 = 24.0\n"
          ]
        }
      ]
    },
    {
      "cell_type": "code",
      "source": [
        "# 8) Write a program to demonstrate the use of logical operators\n",
        "\n",
        "\n",
        "age = int(input(\"Enter your age: \"))\n",
        "is_member = input(\"Are you a member? (yes/no): \").strip().lower()\n",
        "\n",
        "\n",
        "# OR operator\n",
        "if age > 60 or is_member == 'yes':\n",
        "    print(\"You qualify for a senior or membership discount!\")\n",
        "\n",
        "# AND operator\n",
        "elif 18 <= age <= 25 and is_member == 'yes':\n",
        "    print(\"You qualify for a young adult membership discount!\")\n",
        "\n",
        "# NOT operator\n",
        "elif not (is_member == 'yes'):\n",
        "    print(\"You do not have a membership discount.\")\n",
        "\n",
        "else:\n",
        "    print(\"Sorry, you do not qualify for any discounts.\")\n"
      ],
      "metadata": {
        "colab": {
          "base_uri": "https://localhost:8080/"
        },
        "id": "n0VgIq3W-bU4",
        "outputId": "2997b84f-3d79-4bd7-9a40-6d54e8d1e8d8"
      },
      "execution_count": null,
      "outputs": [
        {
          "output_type": "stream",
          "name": "stdout",
          "text": [
            "Enter your age: 55\n",
            "Are you a member? (yes/no): no\n",
            "You do not have a membership discount.\n"
          ]
        }
      ]
    },
    {
      "cell_type": "code",
      "source": [
        "# 9) Write a Python program to convert user input from string to integer, float, and boolean types.\n",
        "\n",
        "def convert_input():\n",
        "    user_input = input(\"Enter a value: \")\n",
        "\n",
        "\n",
        "    try:\n",
        "        int_value = int(user_input)\n",
        "        print(f\"Integer: {int_value}\")\n",
        "    except ValueError:\n",
        "        print(\"Cannot convert to integer.\")\n",
        "\n",
        "\n",
        "    try:\n",
        "        float_value = float(user_input)\n",
        "        print(f\"Float: {float_value}\")\n",
        "    except ValueError:\n",
        "        print(\"Cannot convert to float.\")\n",
        "\n",
        "\n",
        "    if user_input.lower() in ['true', '1', 'yes', 'on']:\n",
        "        bool_value = True\n",
        "    elif user_input.lower() in ['false', '0', 'no', 'off']:\n",
        "        bool_value = False\n",
        "    else:\n",
        "        print(\"Cannot convert to boolean.\")\n",
        "        return\n",
        "\n",
        "    print(f\"Boolean: {bool_value}\")\n",
        "\n",
        "convert_input()\n"
      ],
      "metadata": {
        "colab": {
          "base_uri": "https://localhost:8080/"
        },
        "id": "zFC9N0-u_XGB",
        "outputId": "593e53f7-6dc4-41b0-a4b5-484f1da2bc5b"
      },
      "execution_count": null,
      "outputs": [
        {
          "output_type": "stream",
          "name": "stdout",
          "text": [
            "Enter a value: 13.77\n",
            "Cannot convert to integer.\n",
            "Float: 13.77\n",
            "Cannot convert to boolean.\n"
          ]
        }
      ]
    },
    {
      "cell_type": "code",
      "source": [
        "# 10)  Write code to demonstrate type casting with list elements.\n",
        "\n",
        "\n",
        "string_list = [\"1\", \"2\", \"3\", \"4.5\", \"5.6\"]\n",
        "int_list = [int(x) for x in string_list if x.isdigit()]\n",
        "float_list = [float(x) for x in string_list]\n",
        "\n",
        "print(\"Original List:\", string_list)\n",
        "print(\"Converted to Integers:\", int_list)\n",
        "print(\"Converted to Floats:\", float_list)\n"
      ],
      "metadata": {
        "colab": {
          "base_uri": "https://localhost:8080/"
        },
        "id": "tl2w7cwQ_6_S",
        "outputId": "f8fbb0b7-be87-4df5-a3b6-84f408245c64"
      },
      "execution_count": null,
      "outputs": [
        {
          "output_type": "stream",
          "name": "stdout",
          "text": [
            "Original List: ['1', '2', '3', '4.5', '5.6']\n",
            "Converted to Integers: [1, 2, 3]\n",
            "Converted to Floats: [1.0, 2.0, 3.0, 4.5, 5.6]\n"
          ]
        }
      ]
    },
    {
      "cell_type": "code",
      "source": [
        "# 11) Write a program that checks if a number is positive, negative, or zero.\n",
        "def check_number():\n",
        "    try:\n",
        "        number = float(input(\"Enter a number: \"))\n",
        "        if number > 0:\n",
        "            print(\"The number is positive.\")\n",
        "        elif number < 0:\n",
        "            print(\"The number is negative.\")\n",
        "        else:\n",
        "            print(\"The number is zero.\")\n",
        "    except ValueError:\n",
        "        print(\"Invalid input! Please enter a numeric value.\")\n",
        "check_number()\n"
      ],
      "metadata": {
        "colab": {
          "base_uri": "https://localhost:8080/"
        },
        "id": "-MmYyVtRAXY1",
        "outputId": "e5b389bc-e798-4545-db37-2ab8c64467db"
      },
      "execution_count": null,
      "outputs": [
        {
          "output_type": "stream",
          "name": "stdout",
          "text": [
            "Enter a number: 78\n",
            "The number is positive.\n"
          ]
        }
      ]
    },
    {
      "cell_type": "code",
      "source": [
        "# 12) Write a for loop to print numbers from 1 to 10\n",
        "for i in range(1, 11):\n",
        "    print(i)\n",
        "\n"
      ],
      "metadata": {
        "colab": {
          "base_uri": "https://localhost:8080/"
        },
        "id": "OlUudTymAuzd",
        "outputId": "54fecdf0-ce74-4f0a-ddc6-3f9324485217"
      },
      "execution_count": null,
      "outputs": [
        {
          "output_type": "stream",
          "name": "stdout",
          "text": [
            "1\n",
            "2\n",
            "3\n",
            "4\n",
            "5\n",
            "6\n",
            "7\n",
            "8\n",
            "9\n",
            "10\n"
          ]
        }
      ]
    },
    {
      "cell_type": "code",
      "source": [
        "# 13) Write a Python program to find the sum of all even numbers between 1 and 50\n",
        "\n",
        "even_sum = 0\n",
        "for number in range(2, 51, 2):\n",
        "    even_sum += number\n",
        "\n",
        "\n",
        "print(\"The sum of all even numbers between 1 and 50 is:\", even_sum)\n"
      ],
      "metadata": {
        "colab": {
          "base_uri": "https://localhost:8080/"
        },
        "id": "25VTuTQQBAmm",
        "outputId": "51dc2b6f-dd04-42d5-dace-65e85f519595"
      },
      "execution_count": null,
      "outputs": [
        {
          "output_type": "stream",
          "name": "stdout",
          "text": [
            "The sum of all even numbers between 1 and 50 is: 650\n"
          ]
        }
      ]
    },
    {
      "cell_type": "code",
      "source": [
        "# 14) Write a program to reverse a string using a while loop.\n",
        "\n",
        "def reverse_string(s):\n",
        "    reversed_str = \"\"\n",
        "    index = len(s) - 1\n",
        "    while index >= 0:\n",
        "        reversed_str += s[index]\n",
        "        index -= 1\n",
        "    return reversed_str\n",
        "input_string = \"hello\"\n",
        "print(\"Original string:\", input_string)\n",
        "print(\"Reversed string:\", reverse_string(input_string))\n"
      ],
      "metadata": {
        "colab": {
          "base_uri": "https://localhost:8080/"
        },
        "id": "QkAKdvF9BaB_",
        "outputId": "51530331-afa9-4954-b058-6605fb4d46de"
      },
      "execution_count": null,
      "outputs": [
        {
          "output_type": "stream",
          "name": "stdout",
          "text": [
            "Original string: hello\n",
            "Reversed string: olleh\n"
          ]
        }
      ]
    },
    {
      "cell_type": "code",
      "source": [
        "# 15) Write a Python program to calculate the factorial of a number provided by the user using a while loop.\n",
        "\n",
        "number = int(input(\"Enter a number to calculate its factorial: \"))\n",
        "factorial = 1\n",
        "\n",
        "if number < 0:\n",
        "    print(\"Factorial is not defined for negative numbers.\")\n",
        "elif number == 0:\n",
        "    print(\"The factorial of 0 is 1.\")\n",
        "else:\n",
        "    while number > 0:\n",
        "        factorial *= number\n",
        "        number -= 1\n",
        "\n",
        "    print(f\"The factorial is {factorial}\")\n"
      ],
      "metadata": {
        "colab": {
          "base_uri": "https://localhost:8080/"
        },
        "id": "dei_BXdnB1Ub",
        "outputId": "384ee324-5740-4a17-e057-a6294a2e870b"
      },
      "execution_count": null,
      "outputs": [
        {
          "output_type": "stream",
          "name": "stdout",
          "text": [
            "Enter a number to calculate its factorial: 3\n",
            "The factorial is 6\n"
          ]
        }
      ]
    }
  ]
}